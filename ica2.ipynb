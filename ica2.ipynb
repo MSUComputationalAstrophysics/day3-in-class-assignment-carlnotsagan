{
 "cells": [
  {
   "cell_type": "markdown",
   "metadata": {},
   "source": [
    "## In-Class Assignment #2"
   ]
  },
  {
   "cell_type": "code",
   "execution_count": null,
   "metadata": {
    "collapsed": false,
    "scrolled": true
   },
   "outputs": [],
   "source": [
    "### Imports\n",
    "import numpy as np\n",
    "import matplotlib as mpl\n",
    "import matplotlib.pyplot as plt\n",
    "import matplotlib.cm as mplcm\n",
    "import matplotlib.colors as colors\n",
    "from pylab import *\n",
    "from matplotlib.gridspec import GridSpec\n",
    "#-matplotlib specifics\n",
    "import matplotlib.mlab as mlab\n",
    "import math\n",
    "import random\n",
    "%matplotlib inline\n",
    "\n",
    "import itertools\n",
    "\n",
    "from matplotlib.pyplot import figure, show\n",
    "from matplotlib.image  import NonUniformImage\n",
    "from matplotlib.ticker import AutoMinorLocator\n",
    "\n",
    "minorLocator   = AutoMinorLocator(12)\n",
    "\n",
    "#--------------------------------------------------\n",
    "#...Allow for using TeX mode in matplotlib Figures\n",
    "#--------------------------------------------------\n",
    "from matplotlib import rc\n",
    "rc('font',**{'family':'sans-serif','sans-serif':['Computer Modern Roman']})\n",
    "rc('text', usetex=True)\n",
    "plt.rcParams['text.latex.preamble']=[r\"\\usepackage{lmodern}\"]\n",
    "#Options\n",
    "params = {'text.usetex' : True,\n",
    "    'font.size' : 11,\n",
    "        'font.family' : 'lmodern',\n",
    "            'text.latex.unicode': True,\n",
    "        }\n",
    "plt.rcParams.update(params)\n",
    "mpl.rcParams['axes.linewidth'] = 2.0\n",
    "mpl.rcParams['xtick.major.size']=18      # major tick size in points\n",
    "mpl.rcParams['xtick.minor.size']=9      # minor tick size in points\n",
    "mpl.rcParams['ytick.major.size']=18      # major tick size in points\n",
    "mpl.rcParams['ytick.minor.size']=9      # minor tick size in points\n",
    "mpl.rcParams['xtick.major.width']=0.8      # major tick size in points\n",
    "mpl.rcParams['xtick.minor.width']=0.6      # minor tick size in points\n",
    "mpl.rcParams['ytick.major.width']=0.8      # major tick size in points\n",
    "mpl.rcParams['ytick.minor.width']=0.6"
   ]
  },
  {
   "cell_type": "markdown",
   "metadata": {},
   "source": [
    "## Problem 1"
   ]
  },
  {
   "cell_type": "markdown",
   "metadata": {},
   "source": [
    "Implement the bisection method and Newton’s method for finding the roots of a mathematical function."
   ]
  },
  {
   "cell_type": "code",
   "execution_count": null,
   "metadata": {
    "collapsed": false
   },
   "outputs": [],
   "source": [
    "# This function performs a 1d root solve using the Bisection method.\n",
    "#\n",
    "# The function takes in as arguments:\n",
    "# f - function for which root will be determined\n",
    "# a - lower limit of bracket\n",
    "# b - upper limit of bracket\n",
    "# epsilon - max error in f(root)\n",
    "# max_iter - maximum number of iterations before the program will exit\n",
    "#\n",
    "# Returns: \n",
    "# [0] - solution of f(root) to specified precision, epsilon\n",
    "def root_1d_bisection(f,a,b,epsilon=1e-6,max_iter=100):\n",
    "    N = 1\n",
    "    while (N <= max_iter):\n",
    "        if N == 1: \n",
    "            print('One-Dimensional Root Solver - Bisection Method')\n",
    "            print('------------------------------------------------')\n",
    "        midway = (a+b)/2.\n",
    "        if np.abs(f(midway)) <= epsilon:\n",
    "            print('Root found for x = ',midway,'; f(x_root) = ',f(midway),'; n_iterations = ',N,'\\n\\n')\n",
    "            break\n",
    "        else:\n",
    "            N = N + 1\n",
    "        if np.sign(f(midway)) == np.sign(f(a)):\n",
    "            a = midway\n",
    "        else:\n",
    "            b = midway\n",
    "        print('x:',midway,'; f(x):',f(midway),'; fprime(x): N/A')\n",
    "        if N == max_iter+1:\n",
    "            print('Sorry, root not find in ',max_iter,'iterations. :( Try a different interval. \\n\\n')\n",
    "    return midway\n",
    "\n",
    "import first_derivative as fd\n",
    "\n",
    "# This function performs a 1d root solve using the Secant method.\n",
    "#\n",
    "# The function takes in as arguments:\n",
    "# f - function for which root will be determined\n",
    "# x0 - initial guess for root\n",
    "# epsilon - max error in f(root)\n",
    "# max_iter - maximum number of iterations before the program will exit\n",
    "#\n",
    "# Makes use of 'first_derivative.py' using 5-point method with \n",
    "# delta x = 1e-2\n",
    "#\n",
    "# Returns: \n",
    "# [0] - solution of f(root) to specified precision, epsilon    \n",
    "def root_1d_secant(f,x0,epsilon,max_iter=100):\n",
    "    N = 1\n",
    "    while (N <= max_iter):\n",
    "        if N == 1: \n",
    "            print('One-Dimensional Root Solver - Secant Method')\n",
    "            print('------------------------------------------------')\n",
    "        y = f(x0)\n",
    "        yprime = fd.first_derivative(f,x0,1e-2,5)\n",
    "        if(abs(yprime) < epsilon):\n",
    "            break\n",
    "        x1 = x0 - y/yprime   \n",
    "        if(np.abs(x1 - x0) <= epsilon * np.abs(x1)):\n",
    "            print('Root found for x = ',x0,'; f(x_root) = ',f(x0),'; n_iterations = ',N,'\\n\\n')\n",
    "            break\n",
    "        else:\n",
    "            x0 = x1\n",
    "            N = N + 1\n",
    "            print('x0:',x0,'; f(x0):',f(x0),'; fprime(x0):',yprime)\n",
    "        if N == max_iter+1:\n",
    "            print('Root not find in ',max_iter,'iterations. :( Try a different interval. \\n\\n')\n",
    "    return x0\n",
    "    \n",
    "def function(x):\n",
    "    return np.cos(x)-x\n",
    "\n",
    "# just to test\n",
    "root_1d_bisection(function,-1,2,epsilon=1e-7,max_iter=200)\n",
    "root_1d_Newton(function,2,epsilon=1e-7,max_iter=200)"
   ]
  },
  {
   "cell_type": "code",
   "execution_count": null,
   "metadata": {
    "collapsed": false
   },
   "outputs": [],
   "source": [
    "def function_test(x):\n",
    "    return (np.cos(x/np.pi)*((x*np.sqrt(1+x**2)*(2./3.*x**2-1)) + np.log(x + np.sqrt(1+x**2))))/(np.tanh(x**2))**3+1/x\n",
    "\n",
    "x_test = np.arange(-200,200,1)\n",
    "\n",
    "fig=plt.figure(figsize=(10,8),linewidth=5.0)\n",
    "ax=fig.add_subplot(111)\n",
    "ax.yaxis.set_major_locator(MaxNLocator(5))\n",
    "ax.xaxis.set_major_locator(MaxNLocator(7))\n",
    "ax.yaxis.set_minor_locator(AutoMinorLocator(10))\n",
    "ax.xaxis.set_minor_locator(AutoMinorLocator(10))\n",
    "\n",
    "\n",
    "lines1 = plt.plot(x_test,function_test(x_test),'aquamarine',label=r'$\\rm{Raw \\ Data}$')\n",
    "plt.setp(lines1,linewidth = 1.5,marker='o',markeredgewidth=0.7,ms=3.0,markerfacecolor='aquamarine')\n",
    "\n",
    "plt.xlabel(r'$x$',fontsize=32)\n",
    "plt.ylabel(r'$f(x)$',fontsize=32)\n",
    "#plt.xlim(0.5,6.5)\n",
    "#plt.axhline(22.2,linewidth=2.0,color='k',ls='--')\n",
    "mpl.rcParams.update({'font.size': 32})\n",
    "plt.tight_layout()\n",
    "plt.savefig(\"./ica2.png\")\n",
    "plt.show()\n",
    "\n",
    "import scipy.optimize\n",
    "\n",
    "root_1d_secant(function_test,100,epsilon=1e-7,max_iter=200)\n",
    "root_1d_bisection(function_test,0.1,100,epsilon=1e-7,max_iter=200)\n",
    "scipy.optimize.brentq(function_test, 0.1,100)"
   ]
  },
  {
   "cell_type": "code",
   "execution_count": null,
   "metadata": {
    "collapsed": true
   },
   "outputs": [],
   "source": []
  }
 ],
 "metadata": {
  "anaconda-cloud": {},
  "kernelspec": {
   "display_name": "Python [Root]",
   "language": "python",
   "name": "Python [Root]"
  },
  "language_info": {
   "codemirror_mode": {
    "name": "ipython",
    "version": 3
   },
   "file_extension": ".py",
   "mimetype": "text/x-python",
   "name": "python",
   "nbconvert_exporter": "python",
   "pygments_lexer": "ipython3",
   "version": "3.5.2"
  }
 },
 "nbformat": 4,
 "nbformat_minor": 0
}
